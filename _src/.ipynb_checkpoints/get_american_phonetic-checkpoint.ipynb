{
 "cells": [
  {
   "cell_type": "code",
   "execution_count": 1,
   "metadata": {
    "collapsed": true
   },
   "outputs": [],
   "source": [
    "import pandas as pd"
   ]
  },
  {
   "cell_type": "code",
   "execution_count": 2,
   "metadata": {
    "collapsed": true
   },
   "outputs": [],
   "source": [
    "df = pd.read_csv('../data/Wikipedia/CombinationsofVowelLetters_cleared.csv')"
   ]
  },
  {
   "cell_type": "code",
   "execution_count": 3,
   "metadata": {
    "collapsed": false
   },
   "outputs": [
    {
     "data": {
      "text/html": [
       "<div>\n",
       "<table border=\"1\" class=\"dataframe\">\n",
       "  <thead>\n",
       "    <tr style=\"text-align: right;\">\n",
       "      <th></th>\n",
       "      <th>Phonetic</th>\n",
       "      <th>Spelling</th>\n",
       "      <th>Syllable Position</th>\n",
       "      <th>attribete</th>\n",
       "      <th>Examples</th>\n",
       "    </tr>\n",
       "  </thead>\n",
       "  <tbody>\n",
       "    <tr>\n",
       "      <th>0</th>\n",
       "      <td>/æ/</td>\n",
       "      <td>a</td>\n",
       "      <td>before multiple consonants</td>\n",
       "      <td>Major value (IPA)</td>\n",
       "      <td>hatchet, banner, tally</td>\n",
       "    </tr>\n",
       "    <tr>\n",
       "      <th>1</th>\n",
       "      <td>/æ/</td>\n",
       "      <td>a</td>\n",
       "      <td>final vowel in word</td>\n",
       "      <td>Major value (IPA)</td>\n",
       "      <td>acrobat, cat</td>\n",
       "    </tr>\n",
       "    <tr>\n",
       "      <th>2</th>\n",
       "      <td>/æ/</td>\n",
       "      <td>a</td>\n",
       "      <td>followed by 2 or more unstressed syllables</td>\n",
       "      <td>Major value (IPA)</td>\n",
       "      <td>national, camera, reality</td>\n",
       "    </tr>\n",
       "    <tr>\n",
       "      <th>3</th>\n",
       "      <td>/æ/</td>\n",
       "      <td>a</td>\n",
       "      <td>next syllable contains /ɪ, ə/</td>\n",
       "      <td>Major value (IPA)</td>\n",
       "      <td>acid, granite, palace</td>\n",
       "    </tr>\n",
       "    <tr>\n",
       "      <th>4</th>\n",
       "      <td>/eɪ/</td>\n",
       "      <td>a</td>\n",
       "      <td>before final -nge, -ste</td>\n",
       "      <td>Major value (IPA)</td>\n",
       "      <td>range, exchange, haste</td>\n",
       "    </tr>\n",
       "  </tbody>\n",
       "</table>\n",
       "</div>"
      ],
      "text/plain": [
       "  Phonetic Spelling                           Syllable Position  \\\n",
       "0      /æ/        a                  before multiple consonants   \n",
       "1      /æ/        a                         final vowel in word   \n",
       "2      /æ/        a  followed by 2 or more unstressed syllables   \n",
       "3      /æ/        a               next syllable contains /ɪ, ə/   \n",
       "4     /eɪ/        a                     before final -nge, -ste   \n",
       "\n",
       "           attribete                   Examples  \n",
       "0  Major value (IPA)     hatchet, banner, tally  \n",
       "1  Major value (IPA)               acrobat, cat  \n",
       "2  Major value (IPA)  national, camera, reality  \n",
       "3  Major value (IPA)      acid, granite, palace  \n",
       "4  Major value (IPA)     range, exchange, haste  "
      ]
     },
     "execution_count": 3,
     "metadata": {},
     "output_type": "execute_result"
    }
   ],
   "source": [
    "df.head()"
   ]
  },
  {
   "cell_type": "code",
   "execution_count": 9,
   "metadata": {
    "collapsed": false
   },
   "outputs": [],
   "source": [
    "lst = df.Phonetic.unique().tolist()"
   ]
  },
  {
   "cell_type": "code",
   "execution_count": 7,
   "metadata": {
    "collapsed": false
   },
   "outputs": [
    {
     "data": {
      "text/plain": [
       "119"
      ]
     },
     "execution_count": 7,
     "metadata": {},
     "output_type": "execute_result"
    }
   ],
   "source": [
    "len(lst)"
   ]
  },
  {
   "cell_type": "code",
   "execution_count": 12,
   "metadata": {
    "collapsed": true
   },
   "outputs": [],
   "source": [
    "def contain(df, phonetic):\n",
    "    return df[df.Phonetic.str.contains(phonetic)]"
   ]
  },
  {
   "cell_type": "markdown",
   "metadata": {},
   "source": [
    "导出 unique 的英式音标"
   ]
  },
  {
   "cell_type": "code",
   "execution_count": 18,
   "metadata": {
    "collapsed": false
   },
   "outputs": [],
   "source": [
    "# df.drop_duplicates(\"Phonetic\").to_csv('../data/wiki_words.csv', index=False)"
   ]
  }
 ],
 "metadata": {
  "kernelspec": {
   "display_name": "Python 3",
   "language": "python",
   "name": "python3"
  },
  "language_info": {
   "codemirror_mode": {
    "name": "ipython",
    "version": 3
   },
   "file_extension": ".py",
   "mimetype": "text/x-python",
   "name": "python",
   "nbconvert_exporter": "python",
   "pygments_lexer": "ipython3",
   "version": "3.5.2"
  }
 },
 "nbformat": 4,
 "nbformat_minor": 1
}
