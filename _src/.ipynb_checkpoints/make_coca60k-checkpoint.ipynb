{
 "cells": [
  {
   "cell_type": "code",
   "execution_count": 1,
   "metadata": {
    "collapsed": false
   },
   "outputs": [],
   "source": [
    "from bs4 import BeautifulSoup"
   ]
  },
  {
   "cell_type": "code",
   "execution_count": 2,
   "metadata": {
    "collapsed": true
   },
   "outputs": [],
   "source": [
    "import pandas as pd"
   ]
  },
  {
   "cell_type": "code",
   "execution_count": 3,
   "metadata": {
    "collapsed": true
   },
   "outputs": [],
   "source": [
    "def find_pos(data):\n",
    "    \"\"\"Find the Part of Speech.\"\"\"\n",
    "    bsObj = BeautifulSoup(data, \"lxml\")\n",
    "    mylist = bsObj.find_all({'class': 'rank'})\n",
    "    lst = [i.get_text() for i in mylist]\n",
    "    return '\\n'.join(lst)"
   ]
  },
  {
   "cell_type": "code",
   "execution_count": 4,
   "metadata": {
    "collapsed": false
   },
   "outputs": [],
   "source": [
    "with open('../data/coca60k.html') as file:\n",
    "    data = file.read()"
   ]
  },
  {
   "cell_type": "code",
   "execution_count": 5,
   "metadata": {
    "collapsed": false
   },
   "outputs": [],
   "source": [
    "lst = data.split('\\n')[:-1]"
   ]
  },
  {
   "cell_type": "code",
   "execution_count": 6,
   "metadata": {
    "collapsed": true
   },
   "outputs": [],
   "source": [
    "df = pd.DataFrame({'All':  lst})"
   ]
  },
  {
   "cell_type": "code",
   "execution_count": 7,
   "metadata": {
    "collapsed": false
   },
   "outputs": [],
   "source": [
    "def find_pos(data):\n",
    "    bsObj = BeautifulSoup(data, \"lxml\")\n",
    "    for hit in bsObj.find_all(attrs={'class': 'pos'}):\n",
    "        return hit.contents[0].strip()\n",
    "def find_word(data):\n",
    "    bsObj = BeautifulSoup(data, \"lxml\")\n",
    "    for hit in bsObj.find_all(attrs={'class': 'word'}):\n",
    "        return hit.contents[0].strip()\n",
    "def find_rank(data):\n",
    "    bsObj = BeautifulSoup(data, \"lxml\")\n",
    "    for hit in bsObj.find_all(attrs={'class': 'rank'}):\n",
    "        return hit.contents[0].strip()\n",
    "def find_total(data):\n",
    "    bsObj = BeautifulSoup(data, \"lxml\")\n",
    "    for hit in bsObj.find_all(attrs={'class': 'total'}):\n",
    "        return hit.contents[0].strip()"
   ]
  },
  {
   "cell_type": "code",
   "execution_count": 8,
   "metadata": {
    "collapsed": false
   },
   "outputs": [],
   "source": [
    "df['word'] = df.All.map(find_word)\n",
    "df['rank'] = df.All.map(find_rank)\n",
    "df['freq'] = df.All.map(find_total)\n",
    "df['pos'] = df.All.map(find_pos)"
   ]
  },
  {
   "cell_type": "code",
   "execution_count": 9,
   "metadata": {
    "collapsed": false
   },
   "outputs": [
    {
     "name": "stdout",
     "output_type": "stream",
     "text": [
      "<class 'pandas.core.frame.DataFrame'>\n",
      "RangeIndex: 53967 entries, 0 to 53966\n",
      "Data columns (total 5 columns):\n",
      "All     53967 non-null object\n",
      "word    53966 non-null object\n",
      "rank    53967 non-null object\n",
      "freq    53967 non-null object\n",
      "pos     53967 non-null object\n",
      "dtypes: object(5)\n",
      "memory usage: 2.1+ MB\n"
     ]
    }
   ],
   "source": [
    "df.info()"
   ]
  },
  {
   "cell_type": "code",
   "execution_count": 10,
   "metadata": {
    "collapsed": false
   },
   "outputs": [],
   "source": [
    "df['rank'] = df['rank'].map(lambda x: int(x))"
   ]
  },
  {
   "cell_type": "code",
   "execution_count": 11,
   "metadata": {
    "collapsed": false
   },
   "outputs": [],
   "source": [
    "df = df.sort_values('rank')"
   ]
  },
  {
   "cell_type": "code",
   "execution_count": 12,
   "metadata": {
    "collapsed": true
   },
   "outputs": [],
   "source": [
    "df.to_csv('../data/coca60k.csv', index=False, columns='rank word pos freq'.split())"
   ]
  }
 ],
 "metadata": {
  "kernelspec": {
   "display_name": "Python 3",
   "language": "python",
   "name": "python3"
  },
  "language_info": {
   "codemirror_mode": {
    "name": "ipython",
    "version": 3
   },
   "file_extension": ".py",
   "mimetype": "text/x-python",
   "name": "python",
   "nbconvert_exporter": "python",
   "pygments_lexer": "ipython3",
   "version": "3.5.2"
  }
 },
 "nbformat": 4,
 "nbformat_minor": 1
}
